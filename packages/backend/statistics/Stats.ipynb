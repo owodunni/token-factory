{
 "cells": [
  {
   "cell_type": "code",
   "execution_count": 12,
   "id": "ea317e44-4aa2-44cf-9d45-5da32e1276d3",
   "metadata": {
    "tags": []
   },
   "outputs": [],
   "source": [
    "import json\n",
    "\n",
    "blocks = json.load(open('blocks.json'))"
   ]
  },
  {
   "cell_type": "code",
   "execution_count": 27,
   "id": "e296bc2b-3cea-4beb-ab4e-23f515c34fa4",
   "metadata": {
    "tags": []
   },
   "outputs": [],
   "source": [
    "import pprint\n",
    "pp = pprint.PrettyPrinter(indent=2)"
   ]
  },
  {
   "cell_type": "code",
   "execution_count": 28,
   "id": "81654981-4192-4cfa-8191-b368e144a416",
   "metadata": {
    "tags": []
   },
   "outputs": [
    {
     "data": {
      "text/plain": [
       "5"
      ]
     },
     "execution_count": 28,
     "metadata": {},
     "output_type": "execute_result"
    }
   ],
   "source": [
    "import numpy as np\n",
    "\n",
    "np_blocks = []\n",
    "\n",
    "for block in blocks:\n",
    "    np_blocks.append(np.array(block[\"y\"]))\n",
    "    \n",
    "len(np_blocks)"
   ]
  },
  {
   "cell_type": "code",
   "execution_count": 29,
   "id": "991fdab8-c497-4748-b99d-96c377e65204",
   "metadata": {
    "tags": []
   },
   "outputs": [
    {
     "name": "stdout",
     "output_type": "stream",
     "text": [
      "[ [6.742658555850875, 55.18742168469809],\n",
      "  [5.085323703049646, 27.399587543701077],\n",
      "  [8.889724008255682, 53.42872814540992],\n",
      "  [99.64734994324307, 801.5932179723743],\n",
      "  [7.139607131215788, 28.383687027856826]]\n"
     ]
    }
   ],
   "source": [
    "block_dist = map(lambda block: [block.mean(), block.std()], np_blocks)\n",
    "pp.pprint(list(block_dist))"
   ]
  },
  {
   "cell_type": "code",
   "execution_count": 39,
   "id": "66a31ae2-4f4f-4d8f-8c8d-633ca8377812",
   "metadata": {
    "tags": []
   },
   "outputs": [
    {
     "name": "stdout",
     "output_type": "stream",
     "text": [
      "[ ShapiroResult(statistic=0.07330286502838135, pvalue=7.98183997771197e-32),\n",
      "  ShapiroResult(statistic=0.1108999252319336, pvalue=1.8191693305196338e-25),\n",
      "  ShapiroResult(statistic=0.12163454294204712, pvalue=6.3329352877714395e-28),\n",
      "  ShapiroResult(statistic=0.10231435298919678, pvalue=8.374461704462335e-26),\n",
      "  ShapiroResult(statistic=0.20462650060653687, pvalue=9.081152577494472e-28)]\n"
     ]
    }
   ],
   "source": [
    "from scipy import stats\n",
    "def shapiro(blocks):\n",
    "    return list(map(lambda block: stats.shapiro(block), blocks))\n",
    "\n",
    "block_shapiro = shapiro(np_blocks)\n",
    "pp.pprint(list(block_shapiro))"
   ]
  },
  {
   "cell_type": "code",
   "execution_count": 43,
   "id": "e8e2f487-6de0-4024-a173-d67eb86a6719",
   "metadata": {
    "tags": []
   },
   "outputs": [
    {
     "name": "stdout",
     "output_type": "stream",
     "text": [
      "[ ShapiroResult(statistic=0.8545499444007874, pvalue=7.227717908767431e-14),\n",
      "  ShapiroResult(statistic=0.8401641845703125, pvalue=4.4190238274177673e-11),\n",
      "  ShapiroResult(statistic=0.819416880607605, pvalue=1.7270851361463752e-13),\n",
      "  ShapiroResult(statistic=0.5551893711090088, pvalue=4.421163017846527e-19),\n",
      "  ShapiroResult(statistic=0.9009823799133301, pvalue=6.117198414479219e-10)]\n"
     ]
    }
   ],
   "source": [
    "block_log = map(lambda block: np.log(block), np_blocks)\n",
    "\n",
    "pp.pprint(list(shapiro(block_log)))"
   ]
  },
  {
   "cell_type": "code",
   "execution_count": 70,
   "id": "c7d6ed6a-3ab0-4d35-b0eb-983690158681",
   "metadata": {
    "tags": []
   },
   "outputs": [
    {
     "data": {
      "text/plain": [
       "[AndersonResult(statistic=23.11074552916216, critical_values=array([0.468, 0.629, 0.747, 0.866, 1.024]), significance_level=array([25. , 10. ,  5. ,  2.5,  1. ]), fit_result=  params: FitParams(loc=0.9915827022730183, scale=1.642008808918662)\n",
       "  success: True\n",
       "  message: '`anderson` successfully fit the distribution to the data.'),\n",
       " AndersonResult(statistic=14.951798004961233, critical_values=array([0.466, 0.626, 0.744, 0.862, 1.021]), significance_level=array([25. , 10. ,  5. ,  2.5,  1. ]), fit_result=  params: FitParams(loc=1.1342303773815603, scale=1.4453707166439629)\n",
       "  success: True\n",
       "  message: '`anderson` successfully fit the distribution to the data.'),\n",
       " AndersonResult(statistic=21.681774161745636, critical_values=array([0.467, 0.628, 0.746, 0.864, 1.023]), significance_level=array([25. , 10. ,  5. ,  2.5,  1. ]), fit_result=  params: FitParams(loc=1.2922828727899165, scale=1.6738709175949362)\n",
       "  success: True\n",
       "  message: '`anderson` successfully fit the distribution to the data.'),\n",
       " AndersonResult(statistic=29.42631596997495, critical_values=array([0.466, 0.627, 0.745, 0.863, 1.021]), significance_level=array([25. , 10. ,  5. ,  2.5,  1. ]), fit_result=  params: FitParams(loc=1.8699961056324115, scale=2.405036816309671)\n",
       "  success: True\n",
       "  message: '`anderson` successfully fit the distribution to the data.'),\n",
       " AndersonResult(statistic=15.205555649182031, critical_values=array([0.467, 0.628, 0.746, 0.864, 1.023]), significance_level=array([25. , 10. ,  5. ,  2.5,  1. ]), fit_result=  params: FitParams(loc=1.3519708987377967, scale=1.5975385139957732)\n",
       "  success: True\n",
       "  message: '`anderson` successfully fit the distribution to the data.')]"
      ]
     },
     "execution_count": 70,
     "metadata": {},
     "output_type": "execute_result"
    }
   ],
   "source": [
    "def anderson(blocks):\n",
    "    return list(map(lambda block: stats.anderson(np.log(block), 'extreme1'), blocks))\n",
    "\n",
    "anderson(np_blocks)"
   ]
  },
  {
   "cell_type": "code",
   "execution_count": null,
   "id": "e8124d4d-b25c-4cf0-b1f5-16fab040e44b",
   "metadata": {},
   "outputs": [],
   "source": []
  }
 ],
 "metadata": {
  "kernelspec": {
   "display_name": "Python 3 (ipykernel)",
   "language": "python",
   "name": "python3"
  },
  "language_info": {
   "codemirror_mode": {
    "name": "ipython",
    "version": 3
   },
   "file_extension": ".py",
   "mimetype": "text/x-python",
   "name": "python",
   "nbconvert_exporter": "python",
   "pygments_lexer": "ipython3",
   "version": "3.10.9"
  }
 },
 "nbformat": 4,
 "nbformat_minor": 5
}
